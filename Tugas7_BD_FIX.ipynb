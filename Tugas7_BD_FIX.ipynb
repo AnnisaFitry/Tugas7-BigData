{
  "nbformat": 4,
  "nbformat_minor": 0,
  "metadata": {
    "colab": {
      "provenance": [],
      "authorship_tag": "ABX9TyPiQIW+8nTlqSCYGdtFqGe9",
      "include_colab_link": true
    },
    "kernelspec": {
      "name": "python3",
      "display_name": "Python 3"
    },
    "language_info": {
      "name": "python"
    }
  },
  "cells": [
    {
      "cell_type": "markdown",
      "metadata": {
        "id": "view-in-github",
        "colab_type": "text"
      },
      "source": [
        "<a href=\"https://colab.research.google.com/github/AnnisaFitry/Tugas7-BigData/blob/main/Tugas7_BD_FIX.ipynb\" target=\"_parent\"><img src=\"https://colab.research.google.com/assets/colab-badge.svg\" alt=\"Open In Colab\"/></a>"
      ]
    },
    {
      "cell_type": "markdown",
      "source": [
        "# TUGAS 7"
      ],
      "metadata": {
        "id": "X6WcKZHL7hue"
      }
    },
    {
      "cell_type": "markdown",
      "source": [
        "## Slide 30 dan 48"
      ],
      "metadata": {
        "id": "pSyLUvqVQVAz"
      }
    },
    {
      "cell_type": "code",
      "source": [
        "from google.colab import drive\n",
        "\n",
        "# Accessing My Google Drive\n",
        "drive.mount('/content/drive')"
      ],
      "metadata": {
        "colab": {
          "base_uri": "https://localhost:8080/"
        },
        "id": "opMlyuMrZW9p",
        "outputId": "44f0cf2a-4f23-4e30-e26b-8484f4fb47ff"
      },
      "execution_count": 1,
      "outputs": [
        {
          "output_type": "stream",
          "name": "stdout",
          "text": [
            "Mounted at /content/drive\n"
          ]
        }
      ]
    },
    {
      "cell_type": "code",
      "source": [
        "!pip install pyspark"
      ],
      "metadata": {
        "colab": {
          "base_uri": "https://localhost:8080/"
        },
        "id": "aE_5d7WyZHhw",
        "outputId": "c5fbb67b-d493-4559-f04e-29f94d0078c6"
      },
      "execution_count": 2,
      "outputs": [
        {
          "output_type": "stream",
          "name": "stdout",
          "text": [
            "Looking in indexes: https://pypi.org/simple, https://us-python.pkg.dev/colab-wheels/public/simple/\n",
            "Collecting pyspark\n",
            "  Downloading pyspark-3.4.0.tar.gz (310.8 MB)\n",
            "\u001b[2K     \u001b[90m━━━━━━━━━━━━━━━━━━━━━━━━━━━━━━━━━━━━━━━\u001b[0m \u001b[32m310.8/310.8 MB\u001b[0m \u001b[31m4.5 MB/s\u001b[0m eta \u001b[36m0:00:00\u001b[0m\n",
            "\u001b[?25h  Preparing metadata (setup.py) ... \u001b[?25l\u001b[?25hdone\n",
            "Requirement already satisfied: py4j==0.10.9.7 in /usr/local/lib/python3.10/dist-packages (from pyspark) (0.10.9.7)\n",
            "Building wheels for collected packages: pyspark\n",
            "  Building wheel for pyspark (setup.py) ... \u001b[?25l\u001b[?25hdone\n",
            "  Created wheel for pyspark: filename=pyspark-3.4.0-py2.py3-none-any.whl size=311317130 sha256=e76742d91f1fad4c0ce2c68e116e5e4cb461b2666262c8cbd8197bd9b017cee0\n",
            "  Stored in directory: /root/.cache/pip/wheels/7b/1b/4b/3363a1d04368e7ff0d408e57ff57966fcdf00583774e761327\n",
            "Successfully built pyspark\n",
            "Installing collected packages: pyspark\n",
            "Successfully installed pyspark-3.4.0\n"
          ]
        }
      ]
    },
    {
      "cell_type": "code",
      "source": [
        "from pyspark.sql import SparkSession\n",
        "from pyspark.ml.recommendation import ALS\n",
        "from pyspark.sql.functions import col"
      ],
      "metadata": {
        "id": "PTlUxX8NZjJE"
      },
      "execution_count": 3,
      "outputs": []
    },
    {
      "cell_type": "code",
      "source": [
        "spark = SparkSession.builder.master(\"local[*]\").getOrCreate()\n",
        "\n",
        "class Rating:\n",
        "    def __init__(self, userId, movieId, rating, timestamp):\n",
        "        self.userId = int(userId)\n",
        "        self.movieId = int(movieId)\n",
        "        self.rating = float(rating)\n",
        "        self.timestamp = float(timestamp)\n",
        "\n",
        "def parseRating(str):\n",
        "    fields = str.split(\",\")\n",
        "    assert(len(fields) == 4)\n",
        "    return Rating(int(fields[0]), int(fields[1]), float(fields[2]), float(fields[3]))"
      ],
      "metadata": {
        "id": "DelKaolNZmtB"
      },
      "execution_count": 4,
      "outputs": []
    },
    {
      "cell_type": "code",
      "source": [
        "# Test it\n",
        "parseRating(\"1,1193,5,978300760\")"
      ],
      "metadata": {
        "colab": {
          "base_uri": "https://localhost:8080/"
        },
        "id": "fBnrm49yZq4C",
        "outputId": "e77eba6d-bf01-4963-894f-c14409911595"
      },
      "execution_count": 5,
      "outputs": [
        {
          "output_type": "execute_result",
          "data": {
            "text/plain": [
              "<__main__.Rating at 0x7ff0f82cfee0>"
            ]
          },
          "metadata": {},
          "execution_count": 5
        }
      ]
    },
    {
      "cell_type": "code",
      "source": [
        "ratings = spark.read.csv(\"/content/drive/MyDrive/Tugas7-Bigdata/ml-latest-small/ratings.csv\", header=True, inferSchema=True)\n",
        "# Check if everything is ok\n",
        "ratings.show(5)"
      ],
      "metadata": {
        "colab": {
          "base_uri": "https://localhost:8080/"
        },
        "id": "DJTgu4HrQyAy",
        "outputId": "d7501feb-249e-4dd5-bd4d-0e643dc17940"
      },
      "execution_count": 6,
      "outputs": [
        {
          "output_type": "stream",
          "name": "stdout",
          "text": [
            "+------+-------+------+---------+\n",
            "|userId|movieId|rating|timestamp|\n",
            "+------+-------+------+---------+\n",
            "|     1|      1|   4.0|964982703|\n",
            "|     1|      3|   4.0|964981247|\n",
            "|     1|      6|   4.0|964982224|\n",
            "|     1|     47|   5.0|964983815|\n",
            "|     1|     50|   5.0|964982931|\n",
            "+------+-------+------+---------+\n",
            "only showing top 5 rows\n",
            "\n"
          ]
        }
      ]
    },
    {
      "cell_type": "code",
      "source": [
        "training, test = ratings.randomSplit([0.8, 0.2])\n",
        "\n",
        "# Build the recommendation model using ALS on the training data\n",
        "# Alternating Least Squares (ALS) matrix factorization.\n",
        "als = ALS(maxIter=5, regParam=0.01, userCol=\"userId\", itemCol=\"movieId\", ratingCol=\"rating\")\n",
        "\n",
        "model = als.fit(training)\n",
        "model.write().overwrite().save(\"mymodel\")\n",
        "\n",
        "# Prepare the recommendations\n",
        "predictions = model.transform(test)\n",
        "squaredErrors = predictions.withColumn(\"squaredError\", (col(\"rating\") - col(\"prediction\")) ** 2)\n",
        "mse = squaredErrors.filter(~col(\"squaredError\").isNull()).selectExpr(\"sum(squaredError) as sumSquaredError\").collect()[0][0] / squaredErrors.filter(~col(\"squaredError\").isNull()).count()"
      ],
      "metadata": {
        "id": "CCix7y6ia2bQ"
      },
      "execution_count": 7,
      "outputs": []
    },
    {
      "cell_type": "code",
      "source": [
        "predictions.show(10)"
      ],
      "metadata": {
        "colab": {
          "base_uri": "https://localhost:8080/"
        },
        "id": "DUB6LG9ba683",
        "outputId": "acc7ed1f-0d9a-4707-e971-c0695f05dfd0"
      },
      "execution_count": 8,
      "outputs": [
        {
          "output_type": "stream",
          "name": "stdout",
          "text": [
            "+------+-------+------+---------+----------+\n",
            "|userId|movieId|rating|timestamp|prediction|\n",
            "+------+-------+------+---------+----------+\n",
            "|     1|    223|   3.0|964980985|   4.13816|\n",
            "|     1|    333|   5.0|964981179| 4.8847094|\n",
            "|     1|    349|   4.0|964982563|  4.005332|\n",
            "|     1|    441|   4.0|964980868| 4.9221625|\n",
            "|     1|    500|   3.0|964981208| 4.5089884|\n",
            "|     1|    593|   4.0|964983793| 5.0435615|\n",
            "|     1|    596|   5.0|964982838|  4.631361|\n",
            "|     1|    648|   3.0|964982563|  4.516017|\n",
            "|     1|    661|   5.0|964982838| 3.7964694|\n",
            "|     1|    733|   4.0|964982400| 4.4651685|\n",
            "+------+-------+------+---------+----------+\n",
            "only showing top 10 rows\n",
            "\n"
          ]
        }
      ]
    },
    {
      "cell_type": "code",
      "source": [
        "predictions.write.csv(\"ml2-predictions.csv\", header=True)"
      ],
      "metadata": {
        "id": "UTtkCCC1a9M5"
      },
      "execution_count": 9,
      "outputs": []
    },
    {
      "cell_type": "code",
      "execution_count": 10,
      "metadata": {
        "id": "8FMvMm_BNnOF"
      },
      "outputs": [],
      "source": [
        "import math\n",
        "result = predictions.rdd.map(lambda row: row['prediction'] - row['rating']).map(lambda x: x*x).filter(lambda x: not math.isnan(x))\n",
        "mse = result.reduce(lambda x,y: x+y)"
      ]
    },
    {
      "cell_type": "code",
      "source": [
        "print(mse)"
      ],
      "metadata": {
        "colab": {
          "base_uri": "https://localhost:8080/"
        },
        "id": "1LGFiaiZE75S",
        "outputId": "94349747-d5f5-4a43-c299-e7fd3d94ee94"
      },
      "execution_count": 11,
      "outputs": [
        {
          "output_type": "stream",
          "name": "stdout",
          "text": [
            "22490.105130537104\n"
          ]
        }
      ]
    }
  ]
}